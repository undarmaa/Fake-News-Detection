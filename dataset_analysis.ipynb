{
 "cells": [
  {
   "cell_type": "code",
   "execution_count": 13,
   "metadata": {},
   "outputs": [],
   "source": [
    "import pandas as pd"
   ]
  },
  {
   "cell_type": "code",
   "execution_count": 14,
   "metadata": {},
   "outputs": [],
   "source": [
    "a = pd.read_csv('LIAR-PLUS/dataset/train2.tsv', sep='\\t', header=None)\n",
    "a = a.drop(a.columns[0], axis=1)"
   ]
  },
  {
   "cell_type": "code",
   "execution_count": 15,
   "metadata": {
    "scrolled": false
   },
   "outputs": [
    {
     "data": {
      "text/html": [
       "<div>\n",
       "<style scoped>\n",
       "    .dataframe tbody tr th:only-of-type {\n",
       "        vertical-align: middle;\n",
       "    }\n",
       "\n",
       "    .dataframe tbody tr th {\n",
       "        vertical-align: top;\n",
       "    }\n",
       "\n",
       "    .dataframe thead th {\n",
       "        text-align: right;\n",
       "    }\n",
       "</style>\n",
       "<table border=\"1\" class=\"dataframe\">\n",
       "  <thead>\n",
       "    <tr style=\"text-align: right;\">\n",
       "      <th></th>\n",
       "      <th>1</th>\n",
       "      <th>2</th>\n",
       "      <th>3</th>\n",
       "      <th>4</th>\n",
       "      <th>5</th>\n",
       "      <th>6</th>\n",
       "      <th>7</th>\n",
       "      <th>8</th>\n",
       "      <th>9</th>\n",
       "      <th>10</th>\n",
       "      <th>11</th>\n",
       "      <th>12</th>\n",
       "      <th>13</th>\n",
       "      <th>14</th>\n",
       "      <th>15</th>\n",
       "    </tr>\n",
       "  </thead>\n",
       "  <tbody>\n",
       "    <tr>\n",
       "      <th>1</th>\n",
       "      <td>10540.json</td>\n",
       "      <td>half-true</td>\n",
       "      <td>When did the decline of coal start? It started...</td>\n",
       "      <td>energy,history,job-accomplishments</td>\n",
       "      <td>scott-surovell</td>\n",
       "      <td>State delegate</td>\n",
       "      <td>Virginia</td>\n",
       "      <td>democrat</td>\n",
       "      <td>0.0</td>\n",
       "      <td>0.0</td>\n",
       "      <td>1.0</td>\n",
       "      <td>1.0</td>\n",
       "      <td>0.0</td>\n",
       "      <td>a floor speech.</td>\n",
       "      <td>Surovell said the decline of coal \"started whe...</td>\n",
       "    </tr>\n",
       "  </tbody>\n",
       "</table>\n",
       "</div>"
      ],
      "text/plain": [
       "           1          2                                                  3   \\\n",
       "1  10540.json  half-true  When did the decline of coal start? It started...   \n",
       "\n",
       "                                   4               5               6   \\\n",
       "1  energy,history,job-accomplishments  scott-surovell  State delegate   \n",
       "\n",
       "         7         8    9    10   11   12   13               14  \\\n",
       "1  Virginia  democrat  0.0  0.0  1.0  1.0  0.0  a floor speech.   \n",
       "\n",
       "                                                  15  \n",
       "1  Surovell said the decline of coal \"started whe...  "
      ]
     },
     "execution_count": 15,
     "metadata": {},
     "output_type": "execute_result"
    }
   ],
   "source": [
    "a[1:2]"
   ]
  },
  {
   "cell_type": "markdown",
   "metadata": {},
   "source": [
    "# Column 1"
   ]
  },
  {
   "cell_type": "code",
   "execution_count": 16,
   "metadata": {},
   "outputs": [
    {
     "name": "stdout",
     "output_type": "stream",
     "text": [
      "No of repeated index = 0\n"
     ]
    }
   ],
   "source": [
    "# column 1 analysis Check if any file names are identical\n",
    "from collections import defaultdict\n",
    "Q = defaultdict(lambda :0)\n",
    "col1 = a[1]\n",
    "for i in col1:\n",
    "    Q[i]+=1\n",
    "\n",
    "count=0\n",
    "for j in Q.values():\n",
    "    count += int(j!=1)\n",
    "    \n",
    "print('No of repeated index = {}'.format(count))"
   ]
  },
  {
   "cell_type": "markdown",
   "metadata": {},
   "source": [
    "# Column 2 "
   ]
  },
  {
   "cell_type": "code",
   "execution_count": 17,
   "metadata": {},
   "outputs": [
    {
     "name": "stdout",
     "output_type": "stream",
     "text": [
      "{'mostly-true': 1961, 'pants-fire': 839, 'false': 1993, 'true': 1675, 'half-true': 2114, 'barely-true': 1653}\n"
     ]
    },
    {
     "data": {
      "image/png": "[encoded data removed]",
      "text/plain": [
       "<Figure size 1440x432 with 1 Axes>"
      ]
     },
     "metadata": {
      "needs_background": "light"
     },
     "output_type": "display_data"
    }
   ],
   "source": [
    "%matplotlib inline\n",
    "from collections import defaultdict\n",
    "import matplotlib.pyplot as plt\n",
    "D = defaultdict(lambda : 0)\n",
    "col2 = a[2]\n",
    "for i in col2:\n",
    "    D[i]+=1\n",
    "    \n",
    "print(dict(D))\n",
    "\n",
    "def plot_from_dicts(D):\n",
    "    plt.figure(figsize=(20,6))\n",
    "    plt.bar(range(len(D)), list(D.values()), align='center')\n",
    "    plt.xticks(range(len(D)), list(D.keys()))\n",
    "    plt.show()\n",
    "\n",
    "plot_from_dicts(D)"
   ]
  },
  {
   "cell_type": "markdown",
   "metadata": {},
   "source": [
    "# Column 3"
   ]
  },
  {
   "cell_type": "code",
   "execution_count": 18,
   "metadata": {},
   "outputs": [
    {
     "name": "stdout",
     "output_type": "stream",
     "text": [
      "Index 428 Length 61 Right now one of our highest job growth sectors is Leisure and Hospitality. Weve added jobs that mostly fall within the restaurant and bar sector industry. These are not high-paying jobs, as the U.S. Department of Labor estimates this is an industry sector with the lowest average wages and the lowest proportion of its workforce earning minimum or subminimum wage jobs.\n",
      "\n",
      "\n",
      "Index 1276 Length 60 When Donald Trump spoke in Phoenix, he looked the audience in the eye and he said no, were building a wall and were deporting everybody. He said, quote, they will all be gone. They will all be gone. This is one of the ones where you can go to the tape on it and see what Donald Trump has said.\n",
      "\n",
      "\n",
      "Index 4192 Length 66 Let's pay attention to kids who are not going to college, which ends up being about 60 percent of the kids... and get them trained for the jobs that are there. Because, you know, there are auto mechanic jobs paying $50,000, $60,000 that they can't get filled. There are airline mechanic jobs paying a lot of money that can't get filled. Remarks at AFSCME forum 6/19/2007\n",
      "\n",
      "\n",
      "Index 5025 Length 60 He (Obama) has done several things well. Most of those things are places where he changed his view from where he had during the campaign. So, for instance, he's left our troops in Iraq and they're being more successful there. He boosted our effort in Afghanistan, which is the right course to take. He did not close Guantanamo, thank heavens.\n",
      "\n",
      "\n",
      "Index 9958 Length 65 Barbara Buono by the numbers: As a Trenton politician, she voted to raise taxes 154 times. Under her, property taxes up 70 percent. Backed a 16 percent sales tax increase. Utilities, nursing homes, cell phones, parking lots, lottery wins, gyms She taxed them all. Architect of Corzines budget, she drove New Jersey $2 billion into debt. Barbara Buono by the numbers: taking New Jersey backwards.\n",
      "\n",
      "\n",
      "{2: 8, 3: 19, 4: 35, 5: 74, 6: 130, 7: 196, 8: 293, 9: 384, 10: 476, 11: 545, 12: 554, 13: 654, 14: 579, 15: 542, 16: 551, 17: 518, 18: 509, 19: 452, 20: 436, 21: 406, 22: 373, 23: 335, 24: 294, 25: 276, 26: 220, 27: 194, 28: 175, 29: 149, 30: 115, 31: 116, 32: 110, 33: 105, 34: 71, 35: 64, 36: 47, 37: 43, 38: 36, 39: 28, 40: 18, 41: 22, 42: 17, 43: 10, 44: 9, 45: 7, 46: 12, 47: 1, 48: 6, 49: 3, 50: 3, 52: 1, 53: 5, 54: 1, 55: 2, 57: 1, 60: 2, 61: 1, 65: 1, 66: 1}\n"
     ]
    },
    {
     "data": {
      "image/png": "[encoded data removed]",
      "text/plain": [
       "<Figure size 1440x432 with 1 Axes>"
      ]
     },
     "metadata": {
      "needs_background": "light"
     },
     "output_type": "display_data"
    }
   ],
   "source": [
    "from collections import defaultdict\n",
    "import matplotlib.pyplot as plt\n",
    "\n",
    "A = defaultdict(lambda : 0)\n",
    "col3 = a[3]\n",
    "index=0\n",
    "\n",
    "for string_ in col3:\n",
    "    index+=1\n",
    "    arr = string_.split(' ')\n",
    "    length = len(arr)\n",
    "    A[length]+=1\n",
    "    if length>57:\n",
    "        print('Index {} Length {}'.format(index,length), string_)\n",
    "        print('\\n')\n",
    "\n",
    "print(dict(A))\n",
    "plot_from_dicts(A)"
   ]
  },
  {
   "cell_type": "markdown",
   "metadata": {},
   "source": [
    "# Column 4 -8, 14"
   ]
  },
  {
   "cell_type": "code",
   "execution_count": null,
   "metadata": {},
   "outputs": [],
   "source": [
    "from collections import defaultdict\n",
    "import matplotlib.pyplot as plt\n",
    "\n",
    "K = defaultdict(lambda : 0)\n",
    "M = defaultdict(lambda : 0)\n",
    "col4 = a[4]\n",
    "col5 = a[5]\n",
    "col6 = a[6]\n",
    "col7 = a[7]\n",
    "col8 = a[8]\n",
    "col14= a[14]\n",
    "\n",
    "index=0\n",
    "\n",
    "for s4 in col8:\n",
    "    print(s4)\n",
    "    string_= str(s4)\n",
    "    #assert isinstance(s4,str), \"Not a string!!\"\n",
    "    index+=1\n",
    "    arr = string_.split(' ')\n",
    "    length = len(arr)\n",
    "    K[length]+=1\n",
    "    M[string_]+=1\n",
    "    \n",
    "print(M)\n",
    "plot_from_dicts(M)"
   ]
  },
  {
   "cell_type": "markdown",
   "metadata": {},
   "source": [
    "# Column 15"
   ]
  },
  {
   "cell_type": "code",
   "execution_count": null,
   "metadata": {},
   "outputs": [],
   "source": [
    "from collections import defaultdict\n",
    "import matplotlib.pyplot as plt\n",
    "\n",
    "B = defaultdict(lambda : 0)\n",
    "col15 = a[15]\n",
    "index=0\n",
    "nan_count=0\n",
    "\n",
    "for string_ in col15:\n",
    "    #print(string_)\n",
    "    string_=str(string_)\n",
    "    if string_ == 'nan':\n",
    "        nan_count+=1\n",
    "    index+=1\n",
    "    arr = string_.split(' ')\n",
    "    length = len(arr)\n",
    "    B[length]+=1\n",
    "    \n",
    "    if length>500 :\n",
    "        print('Index {} Length {}'.format(index,length), string_)\n",
    "        print('\\n')\n",
    "\n",
    "print(dict(B))\n",
    "plot_from_dicts(B)"
   ]
  },
  {
   "cell_type": "code",
   "execution_count": 17,
   "metadata": {},
   "outputs": [
    {
     "data": {
      "text/plain": [
       "defaultdict(<function __main__.<lambda>>,\n",
       "            {40: 1,\n",
       "             43: 1,\n",
       "             50: 1,\n",
       "             70: 1,\n",
       "             71: 1,\n",
       "             73: 1,\n",
       "             74: 1,\n",
       "             79: 1,\n",
       "             85: 1,\n",
       "             92: 1,\n",
       "             96: 1,\n",
       "             105: 1})"
      ]
     },
     "execution_count": 17,
     "metadata": {},
     "output_type": "execute_result"
    }
   ],
   "source": [
    "B"
   ]
  },
  {
   "cell_type": "markdown",
   "metadata": {},
   "source": [
    "# Analysis:\n",
    "1) Removed all samples with corrupt column 3\n",
    "\n",
    "2) Cleaned all samples with errors in column 15"
   ]
  },
  {
   "cell_type": "code",
   "execution_count": 11,
   "metadata": {},
   "outputs": [],
   "source": [
    "import tensorflow as tf\n",
    "import csv\n",
    "with tf.gfile.Open('LIAR-PLUS/dataset/train2.tsv', \"r\") as f:\n",
    "    reader = csv.reader(f, delimiter=\"\\t\", quotechar=None)\n",
    "    lines = []\n",
    "    for line in reader:\n",
    "        lines.append(line)"
   ]
  },
  {
   "cell_type": "code",
   "execution_count": 45,
   "metadata": {},
   "outputs": [
    {
     "data": {
      "text/plain": [
       "['3',\n",
       " '1123.json',\n",
       " 'false',\n",
       " 'Health care reform legislation is likely to mandate free sex change surgeries.',\n",
       " 'health-care',\n",
       " 'blog-posting',\n",
       " '',\n",
       " '',\n",
       " 'none',\n",
       " '7',\n",
       " '19',\n",
       " '3',\n",
       " '5',\n",
       " '44',\n",
       " 'a news release',\n",
       " '\"The release may have a point that Mikulskis comment could open the door to \"\"medically necessary\"\" coverage which conceivably may include sex-change operations. But it\\'s unclear whether her amendment will remain in the legislation, and there\\'s nothing specific in the legislation on sex-change procedures and nothing else solid that indicates such coverage will be provided. The news release cherry-picked a few fleeting references to gender and sexual orientation in completely unrelated contexts to argue that proposed health care legislation would mandate free sex-change surgeries (and allow them for illegal aliens, no less).\"']"
      ]
     },
     "execution_count": 45,
     "metadata": {},
     "output_type": "execute_result"
    }
   ],
   "source": [
    "lines[3]"
   ]
  },
  {
   "cell_type": "code",
   "execution_count": 42,
   "metadata": {},
   "outputs": [],
   "source": [
    "import tokenization"
   ]
  },
  {
   "cell_type": "code",
   "execution_count": null,
   "metadata": {},
   "outputs": [],
   "source": [
    "for line in lines:\n",
    "    \n",
    "    temp = []\n",
    "    temp.append(tokenization.convert_to_unicode(line[4]))\n",
    "    temp.append(tokenization.convert_to_unicode(line[5]))\n",
    "    temp.append(tokenization.convert_to_unicode(line[6]))\n",
    "    temp.append(tokenization.convert_to_unicode(line[7]))\n",
    "    temp.append(tokenization.convert_to_unicode(line[8]))\n",
    "    temp.append(tokenization.convert_to_unicode(line[14]))\n",
    "    temp.append(tokenization.convert_to_unicode(line[15]))\n",
    "    text_b = ''\n",
    "    for i in temp:\n",
    "        text_b += i + ' [SEP] '\n",
    "    print(text_b)"
   ]
  },
  {
   "cell_type": "code",
   "execution_count": 1,
   "metadata": {},
   "outputs": [
    {
     "name": "stdout",
     "output_type": "stream",
     "text": [
      "Test File results!\n",
      "Accuracy in 6 class classification: 0.3984189723320158 \n",
      "Accuracy in 2 class classification: 0.6988142292490118\n"
     ]
    }
   ],
   "source": [
    "# if predictions.csv is the output, this can be used\n",
    "\n",
    "import pandas as pd\n",
    "a = pd.read_csv('test_results.tsv', sep='\\t',header=None)\n",
    "b = pd.read_csv('liar_classification/dataset/test.tsv', sep='\\t',header=None)\n",
    "\n",
    "import numpy as np\n",
    "a = np.array(a)\n",
    "preds_6 = np.argmax(a,axis=-1)\n",
    "preds_2 = (preds_6>2.5)*1\n",
    "\n",
    "def convert_labels_6(string):\n",
    "    if string == 'pants-fire':\n",
    "        label = 0\n",
    "    elif string == 'false':\n",
    "        label = 1\n",
    "    elif string == 'barely-true':\n",
    "        label = 2\n",
    "    elif string == 'half-true':\n",
    "        label = 3\n",
    "    elif string == 'mostly-true':\n",
    "        label = 4\n",
    "    elif string == 'true':\n",
    "        label = 5\n",
    "    else:\n",
    "        assert False, \"Something Wrong!!\"\n",
    "    return label\n",
    "\n",
    "def convert_labels_2(string):\n",
    "    if string == 'pants-fire':\n",
    "        label = 0\n",
    "    elif string == 'false':\n",
    "        label = 0\n",
    "    elif string == 'barely-true':\n",
    "        label = 0\n",
    "    elif string == 'half-true':\n",
    "        label = 1\n",
    "    elif string == 'mostly-true':\n",
    "        label = 1\n",
    "    elif string == 'true':\n",
    "        label = 1\n",
    "    else:\n",
    "        assert False, \"Something Wrong!!\"\n",
    "    return label\n",
    "\n",
    "\n",
    "labels_text = b[2]\n",
    "labels_2 = []\n",
    "labels_6 = []\n",
    "for i in labels_text:\n",
    "    labels_2.append(convert_labels_2(i))\n",
    "    labels_6.append(convert_labels_6(i))\n",
    "labels_2 = np.array(labels_2)\n",
    "labels_6 = np.array(labels_6)\n",
    "\n",
    "\n",
    "acc_6 = np.average(np.equal(preds_6,labels_6))\n",
    "acc_2 = np.average(np.equal(preds_2,labels_2))\n",
    "print(\"Test File results!\")\n",
    "print(\"Accuracy in 6 class classification: {} \\nAccuracy in 2 class classification: {}\".format(acc_6, acc_2))"
   ]
  }
 ],
 "metadata": {
  "kernelspec": {
   "display_name": "Python 3",
   "language": "python",
   "name": "python3"
  },
  "language_info": {
   "codemirror_mode": {
    "name": "ipython",
    "version": 3
   },
   "file_extension": ".py",
   "mimetype": "text/x-python",
   "name": "python",
   "nbconvert_exporter": "python",
   "pygments_lexer": "ipython3",
   "version": "3.5.2"
  }
 },
 "nbformat": 4,
 "nbformat_minor": 2
}
